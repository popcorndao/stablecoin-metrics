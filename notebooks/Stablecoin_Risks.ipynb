{
 "cells": [
  {
   "cell_type": "markdown",
   "metadata": {},
   "source": [
    "# Stablecoin Risks"
   ]
  },
  {
   "cell_type": "markdown",
   "metadata": {},
   "source": [
    "## Fiat Money and Stablecoins\n",
    "\n",
    "The term *fiat* applies to any type of money that is not backed by a commodity. The US Dollar, the Euro, the Japanese Yen and the Russian Ruble are all examples of fiat money that have lost both their peg and their backing with respect to a commodity such as gold a while ago. In this sense crypto-currencies such as Ether and Bitcoin are also *fiat* currencies. On the contrary, money that is backed by a commodity is traditionally called *representative money*. In the context of crypto-currencies, however, the term *fiat* is refers exclusively to the traditional currencies that are not anchored in a cryptographically secured peer-to-peer ledger technology. Henceforth we will also use the term in this sense.\n",
    "\n",
    "*Stablecoins* are then crypto-currencies that are pegged to the value of another asset, most commonly a *fiat currency* such as the US Dollar. There are various ways of pegging one asset to another and the most common and straightforward mechanism is by backing it: For each unit of the stablecoin asset there is one unit of the pegged asset, such that both assets are mutually exchangeable at any time, at least idealy. The extend to which this instant exchangeability is not actualized can also be seen as a quality measure for the stablecoin and translates into a risk measure for holding that respective asset. There are various pros and cons of this type of stablecoin and we will discuss them in the relevant section only insofar as they are directly relevant for risk assessment. Another way of pegging a cryto-asset to the value of a *fiat* currency is by means of collateralization through other crypto assets. This provides a certain emanzipation from the actual *fiat* currency, albeit not its value. The last class of mechanisms that we describe here are those that hold their peg algorithmically without any collateral. In the following we will describe these three classes of stablecoins with regard to their risks, both from a high level perspective and from a data- and example-driven low level perspective.  "
   ]
  },
  {
   "cell_type": "markdown",
   "metadata": {},
   "source": [
    "## Overview"
   ]
  },
  {
   "cell_type": "markdown",
   "metadata": {},
   "source": [
    "# Fiat-backed Stablecoins"
   ]
  },
  {
   "cell_type": "markdown",
   "metadata": {},
   "source": [
    "#### Loading the modules and scripts"
   ]
  },
  {
   "cell_type": "code",
   "execution_count": 1,
   "metadata": {},
   "outputs": [],
   "source": [
    "# Modules\n",
    "import os, sys\n",
    "import requests\n",
    "import pandas as pd\n",
    "from datetime import timedelta, datetime, timezone\n",
    "\n",
    "# Scripts\n",
    "scripts_module_path = os.path.abspath(os.path.join(os.getcwd(),'..', 'scripts'))\n",
    "if scripts_module_path not in sys.path:\n",
    "    sys.path.append(scripts_module_path)\n",
    "from acquisition import Acquisition as Akw\n"
   ]
  },
  {
   "cell_type": "markdown",
   "metadata": {},
   "source": [
    "#### Running the Timeseries"
   ]
  },
  {
   "cell_type": "markdown",
   "metadata": {},
   "source": [
    "# Crypto-collateral-backed Stablecoins"
   ]
  },
  {
   "cell_type": "markdown",
   "metadata": {},
   "source": [
    "# Algorithmic Stablecoins"
   ]
  },
  {
   "cell_type": "markdown",
   "metadata": {},
   "source": [
    "# Some Resources:\n",
    "\n",
    "- [Tether Arbitrage Risks. Medium article by Alex Krüger](https://medium.com/@alexkruger/tether-arbitrage-the-dollar-peg-7da405f13ffc)\n",
    "- [Tether Off-peg events. Medium article by Alex Krüger](https://medium.com/hackernoon/tether-bitfinex-saga-illustrated-timeline-2d128a703f9c)"
   ]
  },
  {
   "cell_type": "markdown",
   "metadata": {},
   "source": []
  }
 ],
 "metadata": {
  "interpreter": {
   "hash": "ad203d83f8d4bfa60cdbaad46b25c40dcd919c576e1ab6909538f94eafda0167"
  },
  "kernelspec": {
   "display_name": "Python 3.8.10 64-bit ('.venv': venv)",
   "name": "python3"
  },
  "language_info": {
   "codemirror_mode": {
    "name": "ipython",
    "version": 3
   },
   "file_extension": ".py",
   "mimetype": "text/x-python",
   "name": "python",
   "nbconvert_exporter": "python",
   "pygments_lexer": "ipython3",
   "version": "3.8.10"
  },
  "orig_nbformat": 4
 },
 "nbformat": 4,
 "nbformat_minor": 2
}
