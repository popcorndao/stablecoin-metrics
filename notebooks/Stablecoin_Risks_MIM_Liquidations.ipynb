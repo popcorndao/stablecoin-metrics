{
 "cells": [
  {
   "cell_type": "code",
   "execution_count": 19,
   "metadata": {},
   "outputs": [
    {
     "name": "stdout",
     "output_type": "stream",
     "text": [
      "JSON RPC for Alchemy is connected:  False\n"
     ]
    }
   ],
   "source": [
    "from web3 import Web3\n",
    "import pandas as pd\n",
    "import os, sys, json\n",
    "from matplotlib import pyplot as plt\n",
    "import numpy as np\n",
    "from dotenv import load_dotenv\n",
    "load_dotenv('../.env')\n",
    "\n",
    "# Scripts\n",
    "scripts_module_path = os.path.abspath(os.path.join(os.getcwd(),'..', 'scripts'))\n",
    "if scripts_module_path not in sys.path:\n",
    "    sys.path.append(scripts_module_path)\n",
    "from acquisition import Acquisition as Akw\n",
    "w3 = Web3(Web3.HTTPProvider(os.getenv(\"ALECHEMY_MAINNET_ENDPOINT\")))\n",
    "# w3 = Web3(Web3.IPCProvider('/home/leonhard/.ethereum/geth.ipc'))\n",
    "print(\"JSON RPC for Alchemy is connected: \", w3.isConnected())"
   ]
  },
  {
   "cell_type": "markdown",
   "metadata": {},
   "source": [
    "### Get MIM events"
   ]
  },
  {
   "cell_type": "code",
   "execution_count": 4,
   "metadata": {},
   "outputs": [],
   "source": [
    "MIM_contract = \"MIM_ERC20_Mainnet\"\n",
    "filepath = f'../data/contracts/{MIM_contract}.json'\n",
    "with open(filepath, 'r') as fl:\n",
    "    interace = json.load(fl)\n",
    "    ABI = json.dumps(interace[\"interface\"])\n",
    "    address = list(interace[\"addresses\"].values())[0]\n",
    "mim_contract = w3.eth.contract(address=address, abi=ABI)\n",
    "contr_mim = mim_contract.caller()"
   ]
  },
  {
   "cell_type": "code",
   "execution_count": 5,
   "metadata": {},
   "outputs": [],
   "source": [
    "CauldronWethV2 = \"CauldronWethV2\"\n",
    "filepath = f'../data/contracts/{CauldronWethV2}.json'\n",
    "with open(filepath, 'r') as fl:\n",
    "    interace = json.load(fl)\n",
    "    ABI = json.dumps(interace[\"interface\"])\n",
    "    address = list(interace[\"addresses\"].values())[0]\n",
    "contract_vault = w3.eth.contract(address=address, abi=ABI)\n",
    "contr_vault = contract_vault.caller()"
   ]
  },
  {
   "cell_type": "markdown",
   "metadata": {},
   "source": [
    "### Holders"
   ]
  },
  {
   "cell_type": "code",
   "execution_count": 54,
   "metadata": {},
   "outputs": [],
   "source": [
    "filename = 'export-tokenholders-for-contract-0x99D8a9C45b2ecA8864373A26D1459e3Dff1e17F3.csv'\n",
    "df = pd.read_csv('../data/blockscanner/' + filename , sep=',')\n",
    "df = df.astype({'Balance': 'int64'}).copy()"
   ]
  },
  {
   "cell_type": "code",
   "execution_count": 55,
   "metadata": {},
   "outputs": [
    {
     "data": {
      "text/html": [
       "<div>\n",
       "<style scoped>\n",
       "    .dataframe tbody tr th:only-of-type {\n",
       "        vertical-align: middle;\n",
       "    }\n",
       "\n",
       "    .dataframe tbody tr th {\n",
       "        vertical-align: top;\n",
       "    }\n",
       "\n",
       "    .dataframe thead th {\n",
       "        text-align: right;\n",
       "    }\n",
       "</style>\n",
       "<table border=\"1\" class=\"dataframe\">\n",
       "  <thead>\n",
       "    <tr style=\"text-align: right;\">\n",
       "      <th></th>\n",
       "      <th>Balance</th>\n",
       "    </tr>\n",
       "  </thead>\n",
       "  <tbody>\n",
       "    <tr>\n",
       "      <th>count</th>\n",
       "      <td>4.836000e+03</td>\n",
       "    </tr>\n",
       "    <tr>\n",
       "      <th>mean</th>\n",
       "      <td>9.610649e+05</td>\n",
       "    </tr>\n",
       "    <tr>\n",
       "      <th>std</th>\n",
       "      <td>3.675028e+07</td>\n",
       "    </tr>\n",
       "    <tr>\n",
       "      <th>min</th>\n",
       "      <td>0.000000e+00</td>\n",
       "    </tr>\n",
       "    <tr>\n",
       "      <th>25%</th>\n",
       "      <td>0.000000e+00</td>\n",
       "    </tr>\n",
       "    <tr>\n",
       "      <th>50%</th>\n",
       "      <td>0.000000e+00</td>\n",
       "    </tr>\n",
       "    <tr>\n",
       "      <th>75%</th>\n",
       "      <td>8.325000e+01</td>\n",
       "    </tr>\n",
       "    <tr>\n",
       "      <th>max</th>\n",
       "      <td>1.975023e+09</td>\n",
       "    </tr>\n",
       "  </tbody>\n",
       "</table>\n",
       "</div>"
      ],
      "text/plain": [
       "            Balance\n",
       "count  4.836000e+03\n",
       "mean   9.610649e+05\n",
       "std    3.675028e+07\n",
       "min    0.000000e+00\n",
       "25%    0.000000e+00\n",
       "50%    0.000000e+00\n",
       "75%    8.325000e+01\n",
       "max    1.975023e+09"
      ]
     },
     "execution_count": 55,
     "metadata": {},
     "output_type": "execute_result"
    }
   ],
   "source": [
    "df.describe()"
   ]
  },
  {
   "cell_type": "code",
   "execution_count": 26,
   "metadata": {},
   "outputs": [],
   "source": []
  },
  {
   "cell_type": "code",
   "execution_count": 56,
   "metadata": {},
   "outputs": [
    {
     "data": {
      "image/png": "[encoded data removed]",
      "text/plain": [
       "<Figure size 432x288 with 1 Axes>"
      ]
     },
     "metadata": {
      "needs_background": "light"
     },
     "output_type": "display_data"
    }
   ],
   "source": [
    "bins = np.arange(0,9*10**3, 10*10**1)\n",
    "n, bins, patches = plt.hist(df.Balance.values, bins=bins, log=True)\n",
    "plt.show()"
   ]
  },
  {
   "cell_type": "markdown",
   "metadata": {},
   "source": [
    "## Collateral removed"
   ]
  },
  {
   "cell_type": "code",
   "execution_count": 52,
   "metadata": {},
   "outputs": [],
   "source": [
    "randomBlock = 12949454\n",
    "myfilter = contract_vault.events.LogRemoveCollateral.createFilter(fromBlock=randomBlock, toBlock='latest')\n",
    "events = myfilter.get_all_entries()"
   ]
  },
  {
   "cell_type": "code",
   "execution_count": 53,
   "metadata": {},
   "outputs": [],
   "source": [
    "cols = [\"blockNumber\", \"share\"]\n",
    "rmCol_df = pd.DataFrame(data={i:{cols[0]:e[cols[0]], cols[1]: e[\"args\"][cols[1]]} for i,e in enumerate(events)}).T"
   ]
  },
  {
   "cell_type": "code",
   "execution_count": 51,
   "metadata": {},
   "outputs": [
    {
     "data": {
      "image/png": "[encoded data removed]",
      "text/plain": [
       "<Figure size 432x288 with 1 Axes>"
      ]
     },
     "metadata": {
      "needs_background": "light"
     },
     "output_type": "display_data"
    }
   ],
   "source": [
    "# rmCol_df.plot(\"blockNumber\", \"share\")\n",
    "plt.plot(rmCol_df[\"blockNumber\"], rmCol_df[\"share\"])\n",
    "ax = plt.gca()\n",
    "# ax.set_yscale('log')"
   ]
  },
  {
   "cell_type": "markdown",
   "metadata": {},
   "source": [
    "### Markets"
   ]
  },
  {
   "cell_type": "code",
   "execution_count": 116,
   "metadata": {},
   "outputs": [],
   "source": [
    "def assign_row_entries(row, verbose=True):\n",
    "    name = row[0].replace('\\n', '')\n",
    "    name = name[:int(len(name)/2)]\n",
    "    pair = row[1].replace('\\t', '').replace('\\n','')\n",
    "    price = row[2].replace('\\t', '').replace('\\n','')\n",
    "    convolved = row[3].replace('\\n', '').split('\\t')\n",
    "    if (len(convolved) == 5):\n",
    "        other_info = convolved[0]\n",
    "        spread = convolved[1]\n",
    "        depth_plus_2 = convolved[2]\n",
    "        depth_minus_2 = convolved[3]\n",
    "    else:\n",
    "        if verbose==True:\n",
    "            print(convolved)\n",
    "        \n",
    "        other_info = ''\n",
    "        spread = ''\n",
    "        depth_plus_2 = ''\n",
    "        depth_minus_2 = ''\n",
    "    volume_dollar_24h = row[4].replace('\\t', '').replace('\\n','')\n",
    "    conv = row[5].split('\\t')\n",
    "    volume_coin_24h = conv[0]\n",
    "    Volume_perc = conv[1]\n",
    "    Last_traded = conv[2]\n",
    "    Trust_score = conv[3].replace('\\n', '')\n",
    "    return dict(\n",
    "        name=name,\n",
    "        pair=pair,\n",
    "        price=price,\n",
    "        volume_dollar_24h=volume_dollar_24h,\n",
    "        volume_coin_24h=volume_coin_24h,\n",
    "        depth_minus_2=depth_minus_2,\n",
    "        depth_plus_2=depth_plus_2,\n",
    "        other_info=other_info,\n",
    "        Volume_perc=Volume_perc,\n",
    "        spread=spread,\n",
    "        Last_traded=Last_traded,\n",
    "        Trust_score=Trust_score\n",
    "    )"
   ]
  }
 ],
 "metadata": {
  "interpreter": {
   "hash": "ad203d83f8d4bfa60cdbaad46b25c40dcd919c576e1ab6909538f94eafda0167"
  },
  "kernelspec": {
   "display_name": "Python 3.8.10 64-bit ('.venv': venv)",
   "language": "python",
   "name": "python3"
  },
  "language_info": {
   "codemirror_mode": {
    "name": "ipython",
    "version": 3
   },
   "file_extension": ".py",
   "mimetype": "text/x-python",
   "name": "python",
   "nbconvert_exporter": "python",
   "pygments_lexer": "ipython3",
   "version": "3.8.10"
  },
  "orig_nbformat": 4
 },
 "nbformat": 4,
 "nbformat_minor": 2
}
